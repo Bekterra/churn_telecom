{
 "cells": [
  {
   "cell_type": "markdown",
   "metadata": {},
   "source": [
    "#Gradient Boosting (applied to churn analysis)\n",
    "\n",
    "*Gradient Boosting : The best off-the-shell supervised algorithm for Data Mining.*\n",
    "\n",
    "**Summary : ** \n",
    " \n",
    " - What is churn analysis\n",
    " - Process the data\n",
    " - Evaluate logistic regression's performance and see what's the problem\n",
    " - investigate decision tree\n",
    " - Some theory about Gradient Boosting\n",
    " - Evaluate performance of Gradient Boosting\n",
    " - Feature importance\n",
    " - Why GBDT is the best off-the-shell classifier for Data Mining.\n",
    " \n",
    "** References **\n",
    "\n",
    " - *ref : T. Hastie, R. Tibshirani and J. Friedman. Elements of Statistical Learning Ed. 2, Springer, 2009.*"
   ]
  },
  {
   "cell_type": "code",
   "execution_count": 2,
   "metadata": {},
   "outputs": [],
   "source": [
    "import pandas as pd\n",
    "import numpy as np\n",
    "from sklearn.linear_model import LogisticRegression\n",
    "from sklearn.svm import LinearSVC\n",
    "from sklearn.cross_validation import train_test_split\n",
    "from sklearn.grid_search import GridSearchCV\n",
    "\n",
    "from matplotlib import pyplot as plt\n",
    "from sklearn.metrics import classification_report\n",
    "from sklearn.learning_curve import validation_curve\n",
    "from sklearn.preprocessing import StandardScaler\n",
    "from evaluation import deviance_curve\n",
    "from sklearn.metrics import classification_report\n",
    "from sklearn.ensemble import GradientBoostingClassifier\n",
    "%matplotlib inline\n",
    "import seaborn as sns\n",
    "FIG_SIZE = (16,10)"
   ]
  },
  {
   "cell_type": "markdown",
   "metadata": {},
   "source": [
    "## Churn Analysis\n",
    "\n",
    "Churn analysis is about predicting if a customer is about to stop using a product or services. I'll not enter the details of the churning problem. It will just serve our purposes as a classification problem example. So given the attribute of a customer we want to predict if he's a potential churner. Of course in reality we would like to assess the health of the customer.\n",
    "\n"
   ]
  },
  {
   "cell_type": "markdown",
   "metadata": {},
   "source": [
    "## Processing\n",
    "\n",
    "The data comes from a telecom company. The data are messy meaning that the have categorical as well as continuous variables. There is no missing values though. The features are mostly self explanatory. \n",
    "Let's first take a look at the data. Those data has already been preprocessed and contains only binary and continuous variables. \n",
    "\n",
    "We see below that, as we could expect, the classes are extremely skewed. Less than 14% of the customers are churners. This is quite a lot though."
   ]
  },
  {
   "cell_type": "code",
   "execution_count": 3,
   "metadata": {},
   "outputs": [
    {
     "name": "stdout",
     "output_type": "stream",
     "text": [
      "('Proportion of churner : ', 0.14491449144914492)\n"
     ]
    }
   ],
   "source": [
    "df = pd.read_csv('data/churn_cleaned.csv')\n",
    "print(\"Proportion of churner : \", float(df[df['churn'] == True].shape[0])/df.shape[0])"
   ]
  },
  {
   "cell_type": "markdown",
   "metadata": {},
   "source": [
    "We also note that the scales between the features are vastly differents. So we need to standardize the data set because we want to use logistic regression first. Note that for trees related methods we don't need any scaling, the alogrithm is agnostic to scales as well as variable types. He is omnivor and can eat whatever you want : categorical, ordinal, boolean, real. Of course if your categorical variables are string you need to dummify the variables first. "
   ]
  },
  {
   "cell_type": "code",
   "execution_count": 4,
   "metadata": {},
   "outputs": [
    {
     "data": {
      "text/html": [
       "<div style=\"max-height:1000px;max-width:1500px;overflow:auto;\">\n",
       "<table border=\"1\" class=\"dataframe\">\n",
       "  <thead>\n",
       "    <tr style=\"text-align: right;\">\n",
       "      <th></th>\n",
       "      <th>Account Length</th>\n",
       "      <th>Int'l Plan</th>\n",
       "      <th>VMail Plan</th>\n",
       "      <th>VMail Message</th>\n",
       "      <th>Day Mins</th>\n",
       "      <th>Day Calls</th>\n",
       "      <th>Day Charge</th>\n",
       "      <th>Eve Mins</th>\n",
       "      <th>Eve Calls</th>\n",
       "      <th>Eve Charge</th>\n",
       "      <th>Night Mins</th>\n",
       "      <th>Night Calls</th>\n",
       "      <th>Night Charge</th>\n",
       "      <th>Intl Mins</th>\n",
       "      <th>Intl Calls</th>\n",
       "      <th>Intl Charge</th>\n",
       "      <th>CustServ Calls</th>\n",
       "    </tr>\n",
       "  </thead>\n",
       "  <tbody>\n",
       "    <tr>\n",
       "      <th>0</th>\n",
       "      <td> 128</td>\n",
       "      <td> False</td>\n",
       "      <td>  True</td>\n",
       "      <td> 25</td>\n",
       "      <td> 265.1</td>\n",
       "      <td> 110</td>\n",
       "      <td> 45.07</td>\n",
       "      <td> 197.4</td>\n",
       "      <td>  99</td>\n",
       "      <td> 16.78</td>\n",
       "      <td> 244.7</td>\n",
       "      <td>  91</td>\n",
       "      <td> 11.01</td>\n",
       "      <td> 10.0</td>\n",
       "      <td> 3</td>\n",
       "      <td> 2.70</td>\n",
       "      <td> 1</td>\n",
       "    </tr>\n",
       "    <tr>\n",
       "      <th>1</th>\n",
       "      <td> 107</td>\n",
       "      <td> False</td>\n",
       "      <td>  True</td>\n",
       "      <td> 26</td>\n",
       "      <td> 161.6</td>\n",
       "      <td> 123</td>\n",
       "      <td> 27.47</td>\n",
       "      <td> 195.5</td>\n",
       "      <td> 103</td>\n",
       "      <td> 16.62</td>\n",
       "      <td> 254.4</td>\n",
       "      <td> 103</td>\n",
       "      <td> 11.45</td>\n",
       "      <td> 13.7</td>\n",
       "      <td> 3</td>\n",
       "      <td> 3.70</td>\n",
       "      <td> 1</td>\n",
       "    </tr>\n",
       "    <tr>\n",
       "      <th>2</th>\n",
       "      <td> 137</td>\n",
       "      <td> False</td>\n",
       "      <td> False</td>\n",
       "      <td>  0</td>\n",
       "      <td> 243.4</td>\n",
       "      <td> 114</td>\n",
       "      <td> 41.38</td>\n",
       "      <td> 121.2</td>\n",
       "      <td> 110</td>\n",
       "      <td> 10.30</td>\n",
       "      <td> 162.6</td>\n",
       "      <td> 104</td>\n",
       "      <td>  7.32</td>\n",
       "      <td> 12.2</td>\n",
       "      <td> 5</td>\n",
       "      <td> 3.29</td>\n",
       "      <td> 0</td>\n",
       "    </tr>\n",
       "    <tr>\n",
       "      <th>3</th>\n",
       "      <td>  84</td>\n",
       "      <td>  True</td>\n",
       "      <td> False</td>\n",
       "      <td>  0</td>\n",
       "      <td> 299.4</td>\n",
       "      <td>  71</td>\n",
       "      <td> 50.90</td>\n",
       "      <td>  61.9</td>\n",
       "      <td>  88</td>\n",
       "      <td>  5.26</td>\n",
       "      <td> 196.9</td>\n",
       "      <td>  89</td>\n",
       "      <td>  8.86</td>\n",
       "      <td>  6.6</td>\n",
       "      <td> 7</td>\n",
       "      <td> 1.78</td>\n",
       "      <td> 2</td>\n",
       "    </tr>\n",
       "    <tr>\n",
       "      <th>4</th>\n",
       "      <td>  75</td>\n",
       "      <td>  True</td>\n",
       "      <td> False</td>\n",
       "      <td>  0</td>\n",
       "      <td> 166.7</td>\n",
       "      <td> 113</td>\n",
       "      <td> 28.34</td>\n",
       "      <td> 148.3</td>\n",
       "      <td> 122</td>\n",
       "      <td> 12.61</td>\n",
       "      <td> 186.9</td>\n",
       "      <td> 121</td>\n",
       "      <td>  8.41</td>\n",
       "      <td> 10.1</td>\n",
       "      <td> 3</td>\n",
       "      <td> 2.73</td>\n",
       "      <td> 3</td>\n",
       "    </tr>\n",
       "  </tbody>\n",
       "</table>\n",
       "</div>"
      ]
     },
     "output_type": "execute_result",
     "metadata": {}
    }
   ],
   "source": [
    "labels = df['churn']\n",
    "features = df.drop('churn', axis=1)\n",
    "features_names = features.columns\n",
    "features.head()"
   ]
  },
  {
   "cell_type": "markdown",
   "metadata": {},
   "source": [
    "### Normalization"
   ]
  },
  {
   "cell_type": "code",
   "execution_count": 5,
   "metadata": {},
   "outputs": [
    {
     "data": {
      "text/html": [
       "<div style=\"max-height:1000px;max-width:1500px;overflow:auto;\">\n",
       "<table border=\"1\" class=\"dataframe\">\n",
       "  <thead>\n",
       "    <tr style=\"text-align: right;\">\n",
       "      <th></th>\n",
       "      <th>Account Length</th>\n",
       "      <th>VMail Message</th>\n",
       "      <th>Day Mins</th>\n",
       "      <th>Day Calls</th>\n",
       "      <th>Day Charge</th>\n",
       "      <th>Eve Mins</th>\n",
       "      <th>Eve Calls</th>\n",
       "      <th>Eve Charge</th>\n",
       "      <th>Night Mins</th>\n",
       "      <th>Night Calls</th>\n",
       "      <th>Night Charge</th>\n",
       "      <th>Intl Mins</th>\n",
       "      <th>Intl Calls</th>\n",
       "      <th>Intl Charge</th>\n",
       "      <th>CustServ Calls</th>\n",
       "    </tr>\n",
       "  </thead>\n",
       "  <tbody>\n",
       "    <tr>\n",
       "      <th>0</th>\n",
       "      <td> 0.68</td>\n",
       "      <td> 1.23</td>\n",
       "      <td> 1.57</td>\n",
       "      <td> 0.48</td>\n",
       "      <td> 1.57</td>\n",
       "      <td>-0.07</td>\n",
       "      <td>-0.06</td>\n",
       "      <td>-0.07</td>\n",
       "      <td> 0.87</td>\n",
       "      <td>-0.47</td>\n",
       "      <td> 0.87</td>\n",
       "      <td>-0.09</td>\n",
       "      <td>-0.60</td>\n",
       "      <td>-0.09</td>\n",
       "      <td>-0.43</td>\n",
       "    </tr>\n",
       "    <tr>\n",
       "      <th>1</th>\n",
       "      <td> 0.15</td>\n",
       "      <td> 1.31</td>\n",
       "      <td>-0.33</td>\n",
       "      <td> 1.12</td>\n",
       "      <td>-0.33</td>\n",
       "      <td>-0.11</td>\n",
       "      <td> 0.14</td>\n",
       "      <td>-0.11</td>\n",
       "      <td> 1.06</td>\n",
       "      <td> 0.15</td>\n",
       "      <td> 1.06</td>\n",
       "      <td> 1.24</td>\n",
       "      <td>-0.60</td>\n",
       "      <td> 1.24</td>\n",
       "      <td>-0.43</td>\n",
       "    </tr>\n",
       "    <tr>\n",
       "      <th>2</th>\n",
       "      <td> 0.90</td>\n",
       "      <td>-0.59</td>\n",
       "      <td> 1.17</td>\n",
       "      <td> 0.68</td>\n",
       "      <td> 1.17</td>\n",
       "      <td>-1.57</td>\n",
       "      <td> 0.50</td>\n",
       "      <td>-1.57</td>\n",
       "      <td>-0.76</td>\n",
       "      <td> 0.20</td>\n",
       "      <td>-0.76</td>\n",
       "      <td> 0.70</td>\n",
       "      <td> 0.21</td>\n",
       "      <td> 0.70</td>\n",
       "      <td>-1.19</td>\n",
       "    </tr>\n",
       "    <tr>\n",
       "      <th>3</th>\n",
       "      <td>-0.43</td>\n",
       "      <td>-0.59</td>\n",
       "      <td> 2.20</td>\n",
       "      <td>-1.47</td>\n",
       "      <td> 2.20</td>\n",
       "      <td>-2.74</td>\n",
       "      <td>-0.61</td>\n",
       "      <td>-2.74</td>\n",
       "      <td>-0.08</td>\n",
       "      <td>-0.57</td>\n",
       "      <td>-0.08</td>\n",
       "      <td>-1.30</td>\n",
       "      <td> 1.02</td>\n",
       "      <td>-1.31</td>\n",
       "      <td> 0.33</td>\n",
       "    </tr>\n",
       "    <tr>\n",
       "      <th>4</th>\n",
       "      <td>-0.65</td>\n",
       "      <td>-0.59</td>\n",
       "      <td>-0.24</td>\n",
       "      <td> 0.63</td>\n",
       "      <td>-0.24</td>\n",
       "      <td>-1.04</td>\n",
       "      <td> 1.10</td>\n",
       "      <td>-1.04</td>\n",
       "      <td>-0.28</td>\n",
       "      <td> 1.07</td>\n",
       "      <td>-0.28</td>\n",
       "      <td>-0.05</td>\n",
       "      <td>-0.60</td>\n",
       "      <td>-0.05</td>\n",
       "      <td> 1.09</td>\n",
       "    </tr>\n",
       "  </tbody>\n",
       "</table>\n",
       "</div>"
      ]
     },
     "output_type": "execute_result",
     "metadata": {}
    }
   ],
   "source": [
    "BINARY_FEATURES_NAME = [\"Int'l Plan\", \"VMail Plan\"]\n",
    "FEATURES_NAME = features.columns\n",
    "continuous_feats = features.drop(BINARY_FEATURES_NAME, axis=1)\n",
    "binary_feats = features[BINARY_FEATURES_NAME]\n",
    "# Normalization of continuous variables :\n",
    "continuous_feats.head()\n",
    "binary_feats.head()\n",
    "scaler = StandardScaler()\n",
    "scaled_feats = pd.DataFrame(scaler.fit_transform(continuous_feats, FEATURES_NAME), columns=continuous_feats.columns)\n",
    "normalized_feats = pd.concat([scaled_feats.T, binary_feats.T]).T\n",
    "np.round(scaled_feats, decimals=2).head()"
   ]
  },
  {
   "cell_type": "markdown",
   "metadata": {},
   "source": [
    "It would be a good idea to perform a pca and maybe a clustering on the continuous variables. "
   ]
  },
  {
   "cell_type": "markdown",
   "metadata": {},
   "source": [
    "We now separate the dataset into a training set on which we will do our experiments and a test set that we keep till the end to assess the performance."
   ]
  },
  {
   "cell_type": "code",
   "execution_count": 6,
   "metadata": {},
   "outputs": [],
   "source": [
    "# separating data into training and test set. The latter being kept till the end for performance assessment only\n",
    "X_train, X_test, y_train, y_test = train_test_split(normalized_feats, labels, train_size=2500, random_state=0)"
   ]
  },
  {
   "cell_type": "markdown",
   "metadata": {},
   "source": [
    "## Logistic Regression\n",
    "\n",
    "Next we want to have an idea about the complexity of the classification task at hand. So we run a simple non-regularized logistic regression. Because the classes are skewed we fix the class_weight parameter at auto to take it into account."
   ]
  },
  {
   "cell_type": "code",
   "execution_count": 7,
   "metadata": {},
   "outputs": [
    {
     "name": "stdout",
     "output_type": "stream",
     "text": [
      "             precision    recall  f1-score   support\n",
      "\n",
      "      False       0.94      0.80      0.87       639\n",
      "       True       0.38      0.70      0.50       111\n",
      "\n",
      "avg / total       0.86      0.79      0.81       750\n",
      "\n"
     ]
    }
   ],
   "source": [
    "lr = LogisticRegression(class_weight='auto')\n",
    "XX_train, XX_valid, yy_train, yy_valid = train_test_split(X_train, y_train, train_size=1750, random_state=0) \n",
    "lr.fit(XX_train, yy_train)\n",
    "yy_pred = lr.predict(XX_valid)\n",
    "print(classification_report(yy_valid, yy_pred))"
   ]
  },
  {
   "cell_type": "markdown",
   "metadata": {},
   "source": [
    "We see that the performance is poor. The precision, i.e. the number of true churners among the predicted ones, is very low. The recall, i.e. the number of churners correctly predicted among the total number of churners, is not great neither. \n",
    "\n",
    "In conclusion :\n",
    "    \n",
    "- we predicted way too much non churners as churners.\n",
    "- We do an average job at predicting that a chuners is indeed a churners\n",
    "\n",
    "Note that what we want is a very high recall because we don't want to loose client. Precision is also important since we don't want to waste money by taking action with clients that don't require any specific actions. \n",
    "\n",
    "We may think that we need regularization, maybe we overfit a lot, though that would be very surprising.To get a better understanding we plot the **validation curve** or **deviance curves** of the F1-score with respect to a regularization parameter"
   ]
  },
  {
   "cell_type": "code",
   "execution_count": 8,
   "metadata": {},
   "outputs": [
    {
     "data": {
      "image/png": "[encoded data removed]"
     },
     "output_type": "display_data",
     "metadata": {}
    }
   ],
   "source": [
    "lr_reg = LogisticRegression(penalty=\"l2\", class_weight=\"auto\")\n",
    "param_range = np.arange(0.125, 10.125, 0.125)\n",
    "metric = \"f1\"\n",
    "deviance_curve(lr_reg, X_train, y_train, \"C\", param_range=param_range, metric=metric, n_folds=5, njobs=-1)"
   ]
  },
  {
   "cell_type": "markdown",
   "metadata": {},
   "source": [
    "The training F1-score is very low. This means that we are in a high biais situation so we need a more complex model. "
   ]
  },
  {
   "cell_type": "markdown",
   "metadata": {},
   "source": [
    "##Gradient Boosting Decision Trees\n",
    "\n",
    "GBDT is the best off-the-shell machine learning algorithm, for many reasons, It is  :\n",
    "\n",
    " - extremely performant in most of the task, \n",
    " - easily interpretable and can be applied in regression or classification problem. \n",
    " - No scaling is needed and it works well whatever the variable type (categorical, binary, ordinal, continuous). \n",
    "\n",
    "###Brief description of the algorithm\n",
    "\n",
    "Here is a bhrief description of the algorithm. Our goal is to give the intuition of the algorithm without giving too much details. For more details see ESL Chapter 9-10.\n",
    "\n",
    "<u>Decision trees</u>\n",
    "Decision trees can be used as classifier or regressor. The idea is very simple. Suppose we have a cost function \n",
    "$$ \\sum_i L(\\mathbf{x_i}, \\mathbf{y_i}, p, \\gamma) = \\sum_{i\\vert \\mathbf{x}_i\\in R_{\\gamma_{-}}}L(\\mathbf{x}_i, y_i) + \\sum_{i\\vert\\mathbf{x}_i\\in R_{\\gamma_{+}}}L(\\mathbf{x}_i, y_i)  $$ \n",
    "where $R_{\\gamma^+}={\\mathbf{x}\\vert x_p < \\gamma}$ and  $R_{\\gamma^+}={\\mathbf{x}\\vert x_p > \\gamma}$.\n",
    "\n",
    "So the idea is to split the features space with respect to some of the predictor in such a way that the cost is minimal. Once this is done the same process is repeated in each of the region etc...\n",
    "\n",
    "<u>Boosting</u>\n",
    "\n",
    "** Meta parameters : **\n",
    "\n",
    "<u> Max_depth </u>\n",
    "\n",
    "The max_depth parameter controls the depth of the tree :\n",
    " \n",
    " - Deeper trees explained more variance at the expense of biais of course. \n",
    " - The depth is directly correlated to the interaction between variables. A depth of 2 (called decision stump) deals only with main effect. \n",
    " - Decision stumps maybe useful but it is pretty rare that high order interactions bring any values. \n",
    "\n",
    "Bottom line max_depth values between 4 and 8 give the best results in most cases. \n",
    "\n",
    "<u> n_estimators </u>\n",
    "\n",
    "The n_estimators parameter control the number of boosting iterations. Each iterations reduce the training error leading to possible overfitting. This problem can be adress by monitoring the validation error\n",
    "\n",
    "<u> learning_rate </u>\n",
    "\n",
    "The learning rate $\\alpha$ is another parameters that controls the scale at wich each tree contribute. The smaller the learning rate the higher the training risk for the same number of iteration. \n",
    "\n",
    "The regularization parameter interact with each other, smaller values of $\\alpha$ leads to higher number of iterations. It appears that the best strategy is to choose a small value of $\\alpha$ ($< 0.1$) and then choose the number of iterations accordingly. "
   ]
  },
  {
   "cell_type": "markdown",
   "metadata": {},
   "source": [
    "## Validation curve\n",
    "\n",
    "The validation curve allow us to monitor overfitting. Again we plot a validation curve of the F1-score with respect to the n_estimators."
   ]
  },
  {
   "cell_type": "code",
   "execution_count": 9,
   "metadata": {},
   "outputs": [
    {
     "data": {
      "image/png": "[encoded data removed]"
     },
     "output_type": "display_data",
     "metadata": {}
    }
   ],
   "source": [
    "gb = GradientBoostingClassifier(max_depth=7, max_features='auto', learning_rate=0.1)\n",
    "param_range = np.arange(20, 220, 10)\n",
    "metric = \"f1\"\n",
    "deviance_curve(gb, X_train, y_train, \"n_estimators\", param_range=param_range, metric=metric, n_folds=5, njobs=-1)"
   ]
  },
  {
   "cell_type": "markdown",
   "metadata": {},
   "source": [
    "** Features importance Measures**\n",
    "\n",
    "One of the nice feature of tree related methods is the fact that they give a measure of features importance. Because we split the features space using variable we can compute by how much a split participate to the loss function reduction. So given a variable we can see when this variable is involved into a split compute the amount by which the loss function decrease at each of those split and add them. Using ensemble method like gradient boosting or bagging (Random Forest) we can then just average over the number of iterations and then scale the results byt the max over all features. It should be noted that feature importance is strongly related to the tree architecture. Fortunately commity methors dampened this effect and are more reliable."
   ]
  },
  {
   "cell_type": "code",
   "execution_count": 10,
   "metadata": {},
   "outputs": [
    {
     "data": {
      "text/plain": [
       "<matplotlib.axes._subplots.AxesSubplot at 0x7f4954234c50>"
      ]
     },
     "execution_count": 10,
     "output_type": "execute_result",
     "metadata": {}
    },
    {
     "data": {
      "image/png": "[encoded data removed]"
     },
     "output_type": "display_data",
     "metadata": {}
    }
   ],
   "source": [
    "gb = GradientBoostingClassifier(max_depth=7, max_features='auto', learning_rate=0.1)\n",
    "gb.fit(XX_train, yy_train)\n",
    "importance_s = pd.Series(gb.feature_importances_, index=list(features_names))\n",
    "importance_s /= importance_s.max()\n",
    "importance_s *= 100\n",
    "importance_s.sort()\n",
    "sns.set_style(\"darkgrid\")\n",
    "importance_s.plot(kind='barh', color='darkblue', figsize=(14,8))"
   ]
  },
  {
   "cell_type": "markdown",
   "metadata": {},
   "source": [
    "**Grid search**\n"
   ]
  },
  {
   "cell_type": "code",
   "execution_count": 11,
   "metadata": {},
   "outputs": [
    {
     "data": {
      "text/plain": [
       "GridSearchCV(cv=3,\n",
       "       estimator=GradientBoostingClassifier(init=None, learning_rate=0.1, loss='deviance',\n",
       "              max_depth=7, max_features='auto', max_leaf_nodes=None,\n",
       "              min_samples_leaf=1, min_samples_split=2, n_estimators=100,\n",
       "              random_state=None, subsample=1.0, verbose=0,\n",
       "              warm_start=False),\n",
       "       fit_params={}, iid=True, loss_func=None, n_jobs=-1,\n",
       "       param_grid={'n_estimators': array([ 80,  88,  96, 104, 112, 120, 128]), 'max_depth': [3, 4, 5, 6, 7]},\n",
       "       pre_dispatch='2*n_jobs', refit=True, score_func=None, scoring=None,\n",
       "       verbose=0)"
      ]
     },
     "execution_count": 11,
     "output_type": "execute_result",
     "metadata": {}
    }
   ],
   "source": [
    "# grid search\n",
    "param_grid = {'n_estimators': np.arange(80, 136, 8), 'max_depth': [3, 4, 5, 6, 7]}\n",
    "grid_search = GridSearchCV(gb, param_grid=param_grid, cv=3, verbose=0, n_jobs=-1)\n",
    "grid_search.fit(X_train, y_train)"
   ]
  },
  {
   "cell_type": "code",
   "execution_count": 12,
   "metadata": {},
   "outputs": [
    {
     "name": "stdout",
     "output_type": "stream",
     "text": [
      "('the winner is :', {'n_estimators': 128, 'max_depth': 7})\n",
      "with a score of : 0.951600\n"
     ]
    }
   ],
   "source": [
    "print(\"the winner is :\", grid_search.best_params_)\n",
    "print(\"with a score of : %f\" % grid_search.best_score_)"
   ]
  },
  {
   "cell_type": "code",
   "execution_count": 13,
   "metadata": {},
   "outputs": [
    {
     "name": "stdout",
     "output_type": "stream",
     "text": [
      "             precision    recall  f1-score   support\n",
      "\n",
      "      False       0.97      0.98      0.98       718\n",
      "       True       0.89      0.81      0.85       115\n",
      "\n",
      "avg / total       0.96      0.96      0.96       833\n",
      "\n"
     ]
    }
   ],
   "source": [
    "gb_best = GradientBoostingClassifier(n_estimators=120, \n",
    "                                     max_depth=6, \n",
    "                                     max_features='auto', \n",
    "                                     learning_rate=0.1)\n",
    "gb_best.fit(X_train, y_train)\n",
    "y_pred = gb_best.predict(X_test)\n",
    "proba_pred = gb_best.predict_proba(X_test)\n",
    "print(classification_report(y_test, y_pred))"
   ]
  },
  {
   "cell_type": "markdown",
   "metadata": {},
   "source": [
    "## Using predicted probabilities as a health customer metric\n",
    "\n",
    "As mentionned earlier it would be nice to have a metric or a set of metrics that measure to customer health. Because Gradient Boosting predict posterior probabilities to be in a class maybe we could use it. Unfortunately we will see that the predicted probabilities doesn't help at all in our situation. For example if we look at false negative, i.e. people that we churners but predicted as non-churners, the median posterior probability of being classified as non churners is ridiculously high. The same thing is true for false positive."
   ]
  },
  {
   "cell_type": "code",
   "execution_count": 14,
   "metadata": {},
   "outputs": [
    {
     "data": {
      "text/html": [
       "<div style=\"max-height:1000px;max-width:1500px;overflow:auto;\">\n",
       "<table border=\"1\" class=\"dataframe\">\n",
       "  <thead>\n",
       "    <tr style=\"text-align: right;\">\n",
       "      <th></th>\n",
       "      <th>genuine</th>\n",
       "      <th>pred</th>\n",
       "      <th>proba_False</th>\n",
       "      <th>proba_True</th>\n",
       "    </tr>\n",
       "  </thead>\n",
       "  <tbody>\n",
       "    <tr>\n",
       "      <th>count</th>\n",
       "      <td>   22</td>\n",
       "      <td>    22</td>\n",
       "      <td> 22.000000</td>\n",
       "      <td> 22.000000</td>\n",
       "    </tr>\n",
       "    <tr>\n",
       "      <th>mean</th>\n",
       "      <td>    1</td>\n",
       "      <td>     0</td>\n",
       "      <td>  0.911803</td>\n",
       "      <td>  0.088197</td>\n",
       "    </tr>\n",
       "    <tr>\n",
       "      <th>std</th>\n",
       "      <td>    0</td>\n",
       "      <td>     0</td>\n",
       "      <td>  0.143081</td>\n",
       "      <td>  0.143081</td>\n",
       "    </tr>\n",
       "    <tr>\n",
       "      <th>min</th>\n",
       "      <td> True</td>\n",
       "      <td> False</td>\n",
       "      <td>  0.508847</td>\n",
       "      <td>  0.002368</td>\n",
       "    </tr>\n",
       "    <tr>\n",
       "      <th>25%</th>\n",
       "      <td>    1</td>\n",
       "      <td>     0</td>\n",
       "      <td>  0.943172</td>\n",
       "      <td>  0.007227</td>\n",
       "    </tr>\n",
       "    <tr>\n",
       "      <th>50%</th>\n",
       "      <td>    1</td>\n",
       "      <td>     0</td>\n",
       "      <td>  0.986176</td>\n",
       "      <td>  0.013824</td>\n",
       "    </tr>\n",
       "    <tr>\n",
       "      <th>75%</th>\n",
       "      <td>    1</td>\n",
       "      <td>     0</td>\n",
       "      <td>  0.992773</td>\n",
       "      <td>  0.056828</td>\n",
       "    </tr>\n",
       "    <tr>\n",
       "      <th>max</th>\n",
       "      <td> True</td>\n",
       "      <td> False</td>\n",
       "      <td>  0.997632</td>\n",
       "      <td>  0.491153</td>\n",
       "    </tr>\n",
       "  </tbody>\n",
       "</table>\n",
       "</div>"
      ]
     },
     "output_type": "execute_result",
     "metadata": {}
    }
   ],
   "source": [
    "predictions = pd.DataFrame(y_test, columns=['genuine'])\n",
    "predictions['pred'] = y_pred\n",
    "predictions['proba_False'] = proba_pred[:, 0]\n",
    "predictions['proba_True'] = proba_pred[:, 1]\n",
    "predictions[predictions['genuine']  &  (predictions['pred']==False)].describe()"
   ]
  },
  {
   "cell_type": "code",
   "execution_count": 15,
   "metadata": {},
   "outputs": [
    {
     "data": {
      "text/html": [
       "<div style=\"max-height:1000px;max-width:1500px;overflow:auto;\">\n",
       "<table border=\"1\" class=\"dataframe\">\n",
       "  <thead>\n",
       "    <tr style=\"text-align: right;\">\n",
       "      <th></th>\n",
       "      <th>genuine</th>\n",
       "      <th>pred</th>\n",
       "      <th>proba_False</th>\n",
       "      <th>proba_True</th>\n",
       "    </tr>\n",
       "  </thead>\n",
       "  <tbody>\n",
       "    <tr>\n",
       "      <th>count</th>\n",
       "      <td>    12</td>\n",
       "      <td>   12</td>\n",
       "      <td> 12.000000</td>\n",
       "      <td> 12.000000</td>\n",
       "    </tr>\n",
       "    <tr>\n",
       "      <th>mean</th>\n",
       "      <td>     0</td>\n",
       "      <td>    1</td>\n",
       "      <td>  0.157308</td>\n",
       "      <td>  0.842692</td>\n",
       "    </tr>\n",
       "    <tr>\n",
       "      <th>std</th>\n",
       "      <td>     0</td>\n",
       "      <td>    0</td>\n",
       "      <td>  0.118093</td>\n",
       "      <td>  0.118093</td>\n",
       "    </tr>\n",
       "    <tr>\n",
       "      <th>min</th>\n",
       "      <td> False</td>\n",
       "      <td> True</td>\n",
       "      <td>  0.012080</td>\n",
       "      <td>  0.644616</td>\n",
       "    </tr>\n",
       "    <tr>\n",
       "      <th>25%</th>\n",
       "      <td>     0</td>\n",
       "      <td>    1</td>\n",
       "      <td>  0.064870</td>\n",
       "      <td>  0.758410</td>\n",
       "    </tr>\n",
       "    <tr>\n",
       "      <th>50%</th>\n",
       "      <td>     0</td>\n",
       "      <td>    1</td>\n",
       "      <td>  0.130289</td>\n",
       "      <td>  0.869711</td>\n",
       "    </tr>\n",
       "    <tr>\n",
       "      <th>75%</th>\n",
       "      <td>     0</td>\n",
       "      <td>    1</td>\n",
       "      <td>  0.241590</td>\n",
       "      <td>  0.935130</td>\n",
       "    </tr>\n",
       "    <tr>\n",
       "      <th>max</th>\n",
       "      <td> False</td>\n",
       "      <td> True</td>\n",
       "      <td>  0.355384</td>\n",
       "      <td>  0.987920</td>\n",
       "    </tr>\n",
       "  </tbody>\n",
       "</table>\n",
       "</div>"
      ]
     },
     "output_type": "execute_result",
     "metadata": {}
    }
   ],
   "source": [
    "predictions[predictions['pred']  &  (predictions['genuine']==False)].describe()"
   ]
  },
  {
   "cell_type": "code",
   "execution_count": 18,
   "metadata": {},
   "outputs": [
    {
     "data": {
      "text/html": [
       "<div style=\"max-height:1000px;max-width:1500px;overflow:auto;\">\n",
       "<table border=\"1\" class=\"dataframe\">\n",
       "  <thead>\n",
       "    <tr style=\"text-align: right;\">\n",
       "      <th></th>\n",
       "      <th>genuine</th>\n",
       "      <th>pred</th>\n",
       "      <th>proba_False</th>\n",
       "      <th>proba_True</th>\n",
       "    </tr>\n",
       "  </thead>\n",
       "  <tbody>\n",
       "    <tr>\n",
       "      <th>count</th>\n",
       "      <td>  115</td>\n",
       "      <td>       115</td>\n",
       "      <td> 115.000000</td>\n",
       "      <td> 115.000000</td>\n",
       "    </tr>\n",
       "    <tr>\n",
       "      <th>mean</th>\n",
       "      <td>    1</td>\n",
       "      <td> 0.8086957</td>\n",
       "      <td>   0.237530</td>\n",
       "      <td>   0.762470</td>\n",
       "    </tr>\n",
       "    <tr>\n",
       "      <th>std</th>\n",
       "      <td>    0</td>\n",
       "      <td> 0.3950495</td>\n",
       "      <td>   0.347733</td>\n",
       "      <td>   0.347733</td>\n",
       "    </tr>\n",
       "    <tr>\n",
       "      <th>min</th>\n",
       "      <td> True</td>\n",
       "      <td>     False</td>\n",
       "      <td>   0.000347</td>\n",
       "      <td>   0.002368</td>\n",
       "    </tr>\n",
       "    <tr>\n",
       "      <th>25%</th>\n",
       "      <td>    1</td>\n",
       "      <td>         1</td>\n",
       "      <td>   0.016300</td>\n",
       "      <td>   0.709149</td>\n",
       "    </tr>\n",
       "    <tr>\n",
       "      <th>50%</th>\n",
       "      <td>    1</td>\n",
       "      <td>         1</td>\n",
       "      <td>   0.049700</td>\n",
       "      <td>   0.950300</td>\n",
       "    </tr>\n",
       "    <tr>\n",
       "      <th>75%</th>\n",
       "      <td>    1</td>\n",
       "      <td>         1</td>\n",
       "      <td>   0.290851</td>\n",
       "      <td>   0.983700</td>\n",
       "    </tr>\n",
       "    <tr>\n",
       "      <th>max</th>\n",
       "      <td> True</td>\n",
       "      <td>      True</td>\n",
       "      <td>   0.997632</td>\n",
       "      <td>   0.999653</td>\n",
       "    </tr>\n",
       "  </tbody>\n",
       "</table>\n",
       "</div>"
      ]
     },
     "output_type": "execute_result",
     "metadata": {}
    }
   ],
   "source": [
    "predictions[predictions['genuine']].describe()"
   ]
  },
  {
   "cell_type": "code",
   "metadata": {},
   "outputs": [],
   "source": [
    ""
   ]
  }
 ],
 "metadata": {
  "kernelspec": {
   "display_name": "Python 2",
   "language": "python",
   "name": "python2"
  },
  "language_info": {
   "codemirror_mode": {
    "name": "ipython",
    "version": 2.0
   },
   "file_extension": ".py",
   "mimetype": "text/x-python",
   "name": "python",
   "nbconvert_exporter": "python",
   "pygments_lexer": "ipython2",
   "version": "2.7.9"
  }
 },
 "nbformat": 4,
 "nbformat_minor": 0
}